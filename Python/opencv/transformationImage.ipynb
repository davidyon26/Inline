{
 "cells": [
  {
   "cell_type": "markdown",
   "metadata": {},
   "source": [
    "# 图像转换\n",
    "\n",
    "Opencv主要提供了两个转换函数 warpAffine 和 warpPerspective完成全部的转换的工作\n"
   ]
  },
  {
   "cell_type": "markdown",
   "metadata": {},
   "source": [
    "## 仿射变换（Affine transformation）\n",
    "在讨论仿射变换之前，我们先了解一下欧几里得变换（Euclidean transformation）。欧几里得变换是一种几何变换，任何对象在进行欧几里得变换后会保持原来的形状和大小，严格一些说原空间的任何两个点，在经过转换后，它们的距离不变。欧几里得变换包括旋转，位移，反射以及它们的组合。如何在欧几里得变换上附加偏手性（handedness），反射就不是欧几里得变换了，因为右手在转换后会变成左手。\n",
    "\n",
    "仿射变换是欧几里得变换的扩展，原空间中的点，直线和面在转换后仍然得以保持，同时它还保持线的并行性。但是其不保持相交线的角度和两个点的距离。仿射变换保持位移（translation），缩放（scaling），反射（reflection），旋转（rotation），错切（shear）等。\n"
   ]
  },
  {
   "cell_type": "markdown",
   "metadata": {},
   "source": [
    "### 位移（translation）\n",
    "\n",
    "移动使用如下的转换矩阵\n",
    "\n",
    "$ T = \\begin{bmatrix}\n",
    "        1 & 0 & t_x \\\\\n",
    "        0 & 1 & t_y \n",
    "        \\end{bmatrix} $"
   ]
  },
  {
   "cell_type": "code",
   "execution_count": null,
   "metadata": {},
   "outputs": [],
   "source": [
    "import cv2\n",
    "import numpy as np"
   ]
  },
  {
   "cell_type": "markdown",
   "metadata": {},
   "source": [
    "读入Image文件"
   ]
  },
  {
   "cell_type": "code",
   "execution_count": null,
   "metadata": {},
   "outputs": [],
   "source": [
    "img = cv2.imread('/Users/davidyon/Desktop/IMG_9261.JPG')"
   ]
  },
  {
   "cell_type": "markdown",
   "metadata": {},
   "source": [
    "获取Image文件的维度信息"
   ]
  },
  {
   "cell_type": "code",
   "execution_count": null,
   "metadata": {},
   "outputs": [],
   "source": [
    "num_rows,num_cols = img.shape[:2]"
   ]
  },
  {
   "cell_type": "markdown",
   "metadata": {},
   "source": [
    "设置转换矩阵，向右移动350（tx），向下移动550（ty），对应的矩阵如下："
   ]
  },
  {
   "cell_type": "code",
   "execution_count": null,
   "metadata": {},
   "outputs": [],
   "source": [
    "move_matrix = np.float32([ [1,0,350], [0,1,550] ])"
   ]
  },
  {
   "cell_type": "markdown",
   "metadata": {},
   "source": [
    "使用函数 cv2.warpAffine 进行转换，这个函数使用 2x3 的转换矩阵作为输入。另外一个转换函数 cv.warpPerspective 使用 3x3 的转换矩阵作为输入"
   ]
  },
  {
   "cell_type": "code",
   "execution_count": null,
   "metadata": {},
   "outputs": [],
   "source": [
    "img_move = cv2.warpAffine(img, move_matrix, (num_cols+700,num_rows+1100), cv2.INTER_LINEAR, cv2.BORDER_WRAP, 2)"
   ]
  },
  {
   "cell_type": "markdown",
   "metadata": {},
   "source": [
    "其中，(num_cols+700,num_rows+1100) 是转换后的图像维度，转换的图像宽度增加700，高度增加1100，这样可以使移动（350，550）后的图像显示在正中间。后面两个参数用于指定如何填充移动的边框。"
   ]
  },
  {
   "cell_type": "code",
   "execution_count": null,
   "metadata": {},
   "outputs": [],
   "source": [
    "cv2.imshow('Translation_Move', img_move)\n",
    "cv2.waitKey()\n",
    "cv2.destroyAllWindows()\n",
    "for i in range(1,5):\n",
    "    cv2.waitKey(1)"
   ]
  },
  {
   "cell_type": "markdown",
   "metadata": {},
   "source": [
    "之所以后面有循环，是因为在MacOS上destroyAllWindows不起作用，但是增加几个waitKey调用就可以删除窗口"
   ]
  },
  {
   "cell_type": "markdown",
   "metadata": {},
   "source": [
    "###  旋转 （rotate）\n",
    "图像旋转使用如下的转化矩阵\n",
    "\n",
    "$\n",
    "R=\\begin{bmatrix}\n",
    "    \\cos \\theta  & -\\sin \\theta \\\\\n",
    "    \\sin \\theta  & \\cos \\theta\n",
    "  \\end{bmatrix}\n",
    "$\n",
    "\n",
    "其中 $ \\theta $ 是逆时针旋转的角度。OpenCV 的函数 `getRotationMatrix2D` 提供针对旋转矩阵的细粒度的控制。我们可以指定图像基于那个点进行旋转，旋转的角度，以及对图像的缩放等参数。一旦我们定义了这个旋转矩阵，我们可以使用 `warpAffine` 函数将这个矩阵应用到任何图像。"
   ]
  },
  {
   "cell_type": "code",
   "execution_count": null,
   "metadata": {},
   "outputs": [],
   "source": [
    "import cv2\n",
    "import numpy as np\n",
    "img = cv2.imread('/Users/davidyon/Desktop/IMG_9261.JPG')\n",
    "num_rows, num_cols = img.shape[:2]\n",
    "translation_matrix = np.float32([ [1,0,int(0.5*num_cols)], [0,1,int(0.5*num_rows)] ])\n",
    "rotation_matrix = cv2.getRotationMatrix2D((num_cols, num_rows),30,1)\n",
    "img_translation = cv2.warpAffine(img, translation_matrix, (2*num_cols, 2*num_rows))\n",
    "img_rotation = cv2.warpAffine(img_translation,rotation_matrix,(2*num_cols, 2*num_rows))\n",
    "cv2.imshow('Rotation',img_rotation)\n",
    "cv2.waitKey()\n",
    "cv2.destroyAllWindows()\n",
    "cv2.waitKey(1)"
   ]
  },
  {
   "cell_type": "markdown",
   "metadata": {},
   "source": [
    "其中，下面的代码是为了避免旋转后有些部分被截掉而增加显示的空间，并将图像向中间移动. \n",
    "\n",
    "```python\n",
    "translation_matrix = np.float32([ [1,0,int(0.5*num_cols)], [0,1,int(0.5*num_rows)] ])\n",
    "...\n",
    "img_translation = cv2.warpAffine(img, translation_matrix, (2*num_cols, 2*num_rows))\n",
    "```"
   ]
  },
  {
   "cell_type": "markdown",
   "metadata": {},
   "source": [
    "### 缩放（scale）\n",
    "OpenCV 提供 `resize` 函数对图像进行缩放，并提供相应的缩放参数"
   ]
  },
  {
   "cell_type": "code",
   "execution_count": null,
   "metadata": {},
   "outputs": [],
   "source": [
    "import cv2\n",
    "img = cv2.imread('/Users/davidyon/Desktop/IMG_9261.JPG')\n",
    "img_scaled = cv2.resize(img,None,fx=1.2, fy=1.2, interpolation =\n",
    "                        cv2.INTER_LINEAR)\n",
    "cv2.imshow('Scaling - Linear Interpolation', img_scaled)\n",
    "img_scaled = cv2.resize(img,None,fx=1.2, fy=1.2, interpolation =\n",
    "   cv2.INTER_CUBIC)\n",
    "cv2.imshow('Scaling - Cubic Interpolation', img_scaled)\n",
    "img_scaled = cv2.resize(img,(450, 400), interpolation = cv2.INTER_AREA)\n",
    "cv2.imshow('Scaling - Skewed Size', img_scaled)\n",
    "cv2.waitKey(5000)\n",
    "cv2.destroyAllWindows()\n",
    "cv2.waitKey(1)"
   ]
  },
  {
   "cell_type": "markdown",
   "metadata": {},
   "source": [
    "### 错切（shear）\n",
    "要构造一个通用的仿射变换矩阵，我们需要定义控制点。确定了这些控制点后，我们需要确定要把这些控制点映射到何处。对于仿射变换，我们需要做的是在原来的图像中找出三个点，然后确定这三个点在目标图像中的三个位置。下面，我们通过定义原图像中的三个顶点和其相应的目标图像中的三个映射点完成一个错切变换。"
   ]
  },
  {
   "cell_type": "code",
   "execution_count": null,
   "metadata": {},
   "outputs": [],
   "source": [
    "import cv2\n",
    "import numpy as np\n",
    "img = cv2.imread(\"/Users/davidyon/Desktop/IMG_9261.JPG\")\n",
    "rows, cols = img.shape[:2]\n",
    "src_points = np.float32([[0,0], [cols-1,0], [0,rows-1]])\n",
    "dst_points = np.float32([[0,0], [int(0.6*(cols-1)),0],\n",
    "[int(0.4*(cols-1)),rows-1]])\n",
    "affine_matrix = cv2.getAffineTransform(src_points, dst_points)\n",
    "img_output = cv2.warpAffine(img, affine_matrix, (cols,rows))\n",
    "print(img_output.shape)\n",
    "cv2.imshow('Input', img)\n",
    "cv2.imshow('Output', img_output)\n",
    "cv2.waitKey()\n",
    "cv2.destroyAllWindows()\n",
    "cv2.waitKey()"
   ]
  },
  {
   "cell_type": "markdown",
   "metadata": {},
   "source": [
    "### 反射（reflect）\n",
    "同样我们可以通过这种方式完成反射变换。与上面的代码相比，唯一的不同点是定义的三个目标点不同\n"
   ]
  },
  {
   "cell_type": "code",
   "execution_count": null,
   "metadata": {},
   "outputs": [
    {
     "name": "stdout",
     "output_type": "stream",
     "text": [
      "(3744, 5616, 3)\n"
     ]
    }
   ],
   "source": [
    "import cv2\n",
    "import numpy as np\n",
    "img = cv2.imread(\"/Users/davidyon/Desktop/IMG_9261.JPG\")\n",
    "rows, cols = img.shape[:2]\n",
    "src_points = np.float32([[0,0], [cols-1,0], [0,rows-1]])\n",
    "dst_points = np.float32([[cols-1,0], [0,0], [cols-1,rows-1]])\n",
    "affine_matrix = cv2.getAffineTransform(src_points, dst_points)\n",
    "img_output = cv2.warpAffine(img, affine_matrix, (cols,rows))\n",
    "print(img_output.shape)\n",
    "cv2.imshow('Input', img)\n",
    "cv2.imshow('Output', img_output)\n",
    "cv2.waitKey()\n",
    "cv2.destroyAllWindows()\n",
    "cv2.waitKey()"
   ]
  },
  {
   "cell_type": "code",
   "execution_count": null,
   "metadata": {},
   "outputs": [],
   "source": []
  }
 ],
 "metadata": {
  "kernelspec": {
   "display_name": "Python 3",
   "language": "python",
   "name": "python3"
  },
  "language_info": {
   "codemirror_mode": {
    "name": "ipython",
    "version": 3
   },
   "file_extension": ".py",
   "mimetype": "text/x-python",
   "name": "python",
   "nbconvert_exporter": "python",
   "pygments_lexer": "ipython3",
   "version": "3.7.3"
  }
 },
 "nbformat": 4,
 "nbformat_minor": 2
}
